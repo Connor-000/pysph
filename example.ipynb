from pysph.solver.application import Application
print("PySPH is installed and ready!")
